{
 "cells": [
  {
   "cell_type": "markdown",
   "metadata": {},
   "source": [
    "# Test tts and joining audio files"
   ]
  },
  {
   "cell_type": "code",
   "execution_count": 57,
   "metadata": {},
   "outputs": [
    {
     "data": {
      "text/plain": [
       "True"
      ]
     },
     "execution_count": 57,
     "metadata": {},
     "output_type": "execute_result"
    }
   ],
   "source": [
    "from dotenv import load_dotenv\n",
    "load_dotenv()"
   ]
  },
  {
   "cell_type": "code",
   "execution_count": 18,
   "metadata": {},
   "outputs": [],
   "source": [
    "from pathlib import Path\n",
    "from openai import OpenAI\n",
    "client = OpenAI()\n",
    "\n",
    "speech_file_path = \"/Users/phamanhdung/Documents/AI/multiple_speaker_podcast/audio/host.wav\"\n",
    "with client.audio.speech.with_streaming_response.create(\n",
    "  model=\"tts-1\",\n",
    "  voice=\"alloy\",\n",
    "  input=\"Hi everyone, welcome to the podcast. Today we have a special guest, who is a very talented person. Let's welcome him!\",\n",
    "  response_format=\"wav\"\n",
    ") as response:\n",
    "    response.stream_to_file(speech_file_path)"
   ]
  },
  {
   "cell_type": "code",
   "execution_count": 19,
   "metadata": {},
   "outputs": [],
   "source": [
    "from pathlib import Path\n",
    "from openai import OpenAI\n",
    "client = OpenAI()\n",
    "\n",
    "speech_file_path = \"/Users/phamanhdung/Documents/AI/multiple_speaker_podcast/audio/guest.wav\"\n",
    "with client.audio.speech.with_streaming_response.create(\n",
    "  model=\"tts-1\",\n",
    "  voice=\"ash\",\n",
    "  input=\"Hi, I'm Ash. Thanks for having me on the podcast. I'm excited to be here.\",\n",
    "  response_format=\"wav\"\n",
    ") as response:\n",
    "    response.stream_to_file(speech_file_path)"
   ]
  },
  {
   "cell_type": "code",
   "execution_count": 22,
   "metadata": {},
   "outputs": [],
   "source": [
    "import wave\n",
    "\n",
    "def concatenate_audio_wave(audio_clip_paths, output_path):\n",
    "    \"\"\"Concatenates several audio files into one audio file using Python's built-in wav module\n",
    "    and save it to `output_path`. Note that extension (wav) must be added to `output_path`\"\"\"\n",
    "    data = []\n",
    "    for clip in audio_clip_paths:\n",
    "        w = wave.open(clip, \"rb\")\n",
    "        data.append([w.getparams(), w.readframes(w.getnframes())])\n",
    "        w.close()\n",
    "    output = wave.open(output_path, \"wb\")\n",
    "    output.setparams(data[0][0])\n",
    "    for i in range(len(data)):\n",
    "        output.writeframes(data[i][1])\n",
    "    output.close()"
   ]
  },
  {
   "cell_type": "code",
   "execution_count": 24,
   "metadata": {},
   "outputs": [
    {
     "name": "stdout",
     "output_type": "stream",
     "text": [
      "Audio saved to /Users/phamanhdung/Documents/AI/multiple_speaker_podcast/audio/merged.wav\n"
     ]
    }
   ],
   "source": [
    "from pydub import AudioSegment\n",
    "\n",
    "def concatenate_audio(audio_clip_paths, output_path):\n",
    "    \"\"\"Concatenates multiple audio files into one and saves it as a WAV file.\"\"\"\n",
    "    \n",
    "    combined = AudioSegment.empty()  # Start with an empty AudioSegment\n",
    "\n",
    "    for clip in audio_clip_paths:\n",
    "        audio = AudioSegment.from_file(clip)  # Automatically detects format\n",
    "        combined += audio  # Append to the final audio\n",
    "\n",
    "    combined.export(output_path, format=\"wav\")  # Save as WAV\n",
    "    print(f\"Audio saved to {output_path}\")\n",
    "\n",
    "# Example usage:\n",
    "audio_files = [\n",
    "    \"/Users/phamanhdung/Documents/AI/multiple_speaker_podcast/audio/host.wav\",\n",
    "    \"/Users/phamanhdung/Documents/AI/multiple_speaker_podcast/audio/guest.wav\"\n",
    "]\n",
    "output_file = \"/Users/phamanhdung/Documents/AI/multiple_speaker_podcast/audio/merged.wav\"\n",
    "\n",
    "concatenate_audio(audio_files, output_file)\n"
   ]
  },
  {
   "cell_type": "code",
   "execution_count": 55,
   "metadata": {},
   "outputs": [],
   "source": [
    "import boto3\n",
    "from loguru import logger\n",
    "from botocore.exceptions import NoCredentialsError\n",
    "\n",
    "def upload_to_s3(file_name, bucket, object_name=None):\n",
    "    \"\"\"Upload a file to an S3 bucket\n",
    "\n",
    "    :param file_name: File to upload\n",
    "    :param bucket: Bucket to upload to\n",
    "    :param object_name: S3 object name. If not specified, file_name is used\n",
    "    :return: True if file was uploaded, else False\n",
    "    \"\"\"\n",
    "    s3 = boto3.client('s3', aws_access_key_id=os.getenv(\"AWS_ACCESS_KEY_ID\"), aws_secret_access_key=os.getenv(\"AWS_SECRET_ACCESS_KEY\"))\n",
    "    if object_name is None:\n",
    "        object_name = file_name\n",
    "\n",
    "    try:\n",
    "        # Upload the file to S3\n",
    "        s3.upload_file(file_name, bucket, object_name)\n",
    "        logger.info(f\"File {file_name} uploaded successfully to {bucket}/{object_name}\")\n",
    "        public_url = f\"https://{bucket}.s3.us-east-1.s3.amazonaws.com/{object_name}\"\n",
    "        return public_url\n",
    "    except FileNotFoundError:\n",
    "        logger.error(\"The file was not found\")\n",
    "        return False\n",
    "    except NoCredentialsError:\n",
    "        logger.error(\"Credentials not available\")\n",
    "        return False"
   ]
  },
  {
   "cell_type": "code",
   "execution_count": 56,
   "metadata": {},
   "outputs": [
    {
     "name": "stderr",
     "output_type": "stream",
     "text": [
      "\u001b[32m2025-02-20 22:51:23.024\u001b[0m | \u001b[1mINFO    \u001b[0m | \u001b[36m__main__\u001b[0m:\u001b[36mupload_to_s3\u001b[0m:\u001b[36m20\u001b[0m - \u001b[1mFile /Users/phamanhdung/Documents/AI/multiple_speaker_podcast/audio/merged.wav uploaded successfully to oigpt/merged\u001b[0m\n"
     ]
    },
    {
     "data": {
      "text/plain": [
       "'https://oigpt.s3.us-east-1.s3.amazonaws.com/merged'"
      ]
     },
     "execution_count": 56,
     "metadata": {},
     "output_type": "execute_result"
    }
   ],
   "source": [
    "upload_to_s3(file_name=\"/Users/phamanhdung/Documents/AI/multiple_speaker_podcast/audio/merged.wav\", bucket=\"oigpt\", object_name=\"merged\")"
   ]
  },
  {
   "cell_type": "markdown",
   "metadata": {},
   "source": [
    "# Script generation"
   ]
  },
  {
   "cell_type": "code",
   "execution_count": 61,
   "metadata": {},
   "outputs": [],
   "source": [
    "from pydantic import Field, BaseModel\n",
    "from langchain_openai import ChatOpenAI\n",
    "from typing import List"
   ]
  },
  {
   "cell_type": "code",
   "execution_count": 72,
   "metadata": {},
   "outputs": [],
   "source": [
    "class TurnConversation(BaseModel):\n",
    "    speaker: str = Field(description=\"Name of the speaker.\")\n",
    "    text: str = Field(description=\"Text spoken by the speaker.\")\n",
    "\n",
    "class ScriptResponse(BaseModel):\n",
    "    \"\"\"Always use this tool to structure your response to the user.\"\"\"\n",
    "    script_title: str = Field(description=\"Short title of generated script. For podcast purpose.\")\n",
    "    turns: List[TurnConversation] = Field(description=\"List of turns in the conversation.\")\n",
    "\n",
    "def gen_script(words_to_review: List[str]) -> ScriptResponse:\n",
    "    model = ChatOpenAI(model=\"gpt-4o-mini\", temperature=0.8)\n",
    "    model_with_structure = model.with_structured_output(ScriptResponse)\n",
    "    prompt = '''\n",
    "    With given words to review in tripple backticks. Generate a script for a podcast episode which must contains\n",
    "    all the given words in the conversation and talking about technology or AI. \n",
    "    The script is a conversation between two people. The first person is the host of the podcast. \n",
    "    The second person is the guest. The host name is Quinn and the guest name is AD.\n",
    "    The script must be around 1000 words long. And each word in the provided list must be used at least twice.\n",
    "    The script must be engaging, funny and informative.\n",
    "    ```Words to review: {}```\n",
    "    '''.format(\", \".join(words_to_review))\n",
    "    structured_output = model_with_structure.invoke(prompt)\n",
    "    return structured_output"
   ]
  },
  {
   "cell_type": "code",
   "execution_count": 73,
   "metadata": {},
   "outputs": [],
   "source": [
    "words_to_reivew = [\"factotum\", \"even\", \"abreast\", \"abrogation\", \"abruptly\", \"juggle\", \"jungle\"]\n",
    "script = gen_script(words_to_review=words_to_reivew)"
   ]
  },
  {
   "cell_type": "code",
   "execution_count": 74,
   "metadata": {},
   "outputs": [
    {
     "data": {
      "text/plain": [
       "ScriptResponse(script_title='Juggling Technology in the Jungle of AI', turns=[TurnConversation(speaker='Quinn', text='Welcome back to another episode of Tech Talk Today! I’m your host, Quinn, and today we have an exciting guest who knows a thing or two about navigating the jungle of technology. Please welcome AD, a true factotum in the world of artificial intelligence!'), TurnConversation(speaker='AD', text=\"Thanks for having me, Quinn! It's great to be here. I love talking about tech, especially when it involves juggling all these new advancements.\"), TurnConversation(speaker='Quinn', text='Absolutely! Technology evolves so quickly. It’s like trying to keep abreast of a never-ending jungle of information. How do you manage to stay on top of it all?'), TurnConversation(speaker='AD', text=\"Well, I have to admit, sometimes I feel like I’m just a factotum, juggling different projects and trying not to drop the ball! But I believe it's essential to keep learning and adapting.\"), TurnConversation(speaker='Quinn', text='That’s a good point! Keeping abreast of new technologies is crucial. For example, just last week, I read about the abrogation of certain old protocols in AI development that were deemed outdated.'), TurnConversation(speaker='AD', text='Right! The abrogation of those protocols was quite controversial. Some people felt it was too abrupt, while others argued it was necessary to make way for more efficient systems.'), TurnConversation(speaker='Quinn', text='Exactly! It’s fascinating how quickly things can change in this field. Just when you think you’ve gotten a handle on something, it shifts, and you have to juggle even more information.'), TurnConversation(speaker='AD', text='Oh, totally! Like the other day, I was deep into neural networks when someone brought up quantum computing. I felt like I was in a jungle trying to navigate between two entirely different tech worlds!'), TurnConversation(speaker='Quinn', text='Haha! That does sound like quite the adventure. Speaking of jungles, do you think there are any dangers lurking in the tech world that we should be aware of?'), TurnConversation(speaker='AD', text=\"Definitely! There’s always the risk of misinformation. Sometimes people think they've got a solid fact, only to find out it’s just a rumor. Staying abreast of reliable sources is vital.\"), TurnConversation(speaker='Quinn', text='That’s true! And it’s funny how misinformation can spread like a vine in a jungle, isn’t it? One small mistake can lead to a massive tangle of confusion.'), TurnConversation(speaker='AD', text='Exactly! It’s up to us to be the factotums of truth in this tech jungle. We need to sort through the noise and find what’s accurate.'), TurnConversation(speaker='Quinn', text='Well said, AD! So, if someone wants to thrive in this jungle, what advice would you give them?'), TurnConversation(speaker='AD', text='First, I’d say embrace the chaos! Technology is always evolving, so being adaptable is key. And don’t be afraid to juggle multiple perspectives before forming an opinion.'), TurnConversation(speaker='Quinn', text='That’s a refreshing approach! Sometimes, people can be so rigid in their thinking that they miss out on valuable insights. Keeping an open mind must help when navigating these changes.'), TurnConversation(speaker='AD', text='Absolutely! Plus, it helps to have a little humor along the way. If you get too serious, you might just trip over a vine!'), TurnConversation(speaker='Quinn', text='Haha! Very true! Humor can lighten even the most daunting tasks, especially when you’re trying to understand complex AI concepts. What’s the most humorous thing you’ve encountered in tech lately?'), TurnConversation(speaker='AD', text=\"Oh, there was a meme that showed a robot trying to juggle oranges while saying, 'I can’t even compute this!' It was hilarious but also a relatable moment in the tech world.\"), TurnConversation(speaker='Quinn', text='That’s brilliant! Sometimes, the best way to cope with the rapid pace of change is to laugh at it. It reminds us that we’re all just navigating this tech jungle together.'), TurnConversation(speaker='AD', text='For sure! And it’s important to remember that we’re not alone. There are communities out there helping each other stay abreast of new developments.'), TurnConversation(speaker='Quinn', text='Yes! Collaboration can make the journey through the jungle much smoother. What are some communities you recommend?'), TurnConversation(speaker='AD', text='I’d suggest looking into online forums like Reddit or tech meetups in your area. They’re great for connecting with others and sharing knowledge. Just be cautious of the occasional misinformation lurking around!'), TurnConversation(speaker='Quinn', text='Good advice! Just like in the jungle, you have to watch out for those sneaky pitfalls. So, what’s next for you in this tech journey?'), TurnConversation(speaker='AD', text='I’ve been working on developing an AI tool that helps users filter out misinformation. It’s like a digital factotum, sorting through the noise to deliver accurate information.'), TurnConversation(speaker='Quinn', text='That sounds fantastic! I can’t wait to see that in action. It’ll really help people navigate the tech jungle without getting lost.'), TurnConversation(speaker='AD', text='Exactly! We’re all trying to find our way, and tools like that can make it easier. And who knows, maybe we’ll end up juggling even more with all this new tech!'), TurnConversation(speaker='Quinn', text='Haha! Well, AD, thank you so much for joining us today and sharing your insights. It’s always a pleasure to have a fellow factotum in the studio.'), TurnConversation(speaker='AD', text='Thank you, Quinn! It’s been a blast discussing all things tech with you.'), TurnConversation(speaker='Quinn', text='And thanks to our listeners for tuning in! Remember to keep juggling your knowledge and stay abreast of the latest tech developments. Until next time!')])"
      ]
     },
     "execution_count": 74,
     "metadata": {},
     "output_type": "execute_result"
    }
   ],
   "source": [
    "script"
   ]
  },
  {
   "cell_type": "code",
   "execution_count": null,
   "metadata": {},
   "outputs": [],
   "source": []
  }
 ],
 "metadata": {
  "kernelspec": {
   "display_name": "multiple-speaker-podcast-JHfpF2_j-py3.11",
   "language": "python",
   "name": "python3"
  },
  "language_info": {
   "codemirror_mode": {
    "name": "ipython",
    "version": 3
   },
   "file_extension": ".py",
   "mimetype": "text/x-python",
   "name": "python",
   "nbconvert_exporter": "python",
   "pygments_lexer": "ipython3",
   "version": "3.11.7"
  }
 },
 "nbformat": 4,
 "nbformat_minor": 2
}
